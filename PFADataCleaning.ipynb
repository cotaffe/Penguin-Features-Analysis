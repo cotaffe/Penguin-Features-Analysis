{
  "nbformat": 4,
  "nbformat_minor": 0,
  "metadata": {
    "colab": {
      "provenance": []
    },
    "kernelspec": {
      "name": "python3",
      "display_name": "Python 3"
    },
    "language_info": {
      "name": "python"
    }
  },
  "cells": [
    {
      "cell_type": "markdown",
      "source": [
        "## Data Cleaning"
      ],
      "metadata": {
        "id": "g3dSnGPnsNim"
      }
    },
    {
      "cell_type": "code",
      "execution_count": 2,
      "metadata": {
        "id": "gELg9xrRsFB5"
      },
      "outputs": [],
      "source": [
        "import pandas as pd\n",
        "import numpy as np\n",
        "from sklearn.model_selection import train_test_split\n",
        "\n",
        "# Set the random seed for reproducibility\n",
        "np.random.seed(3354354524)\n",
        "\n",
        "# Load the dataset\n",
        "url = 'https://philchodrow.github.io/PIC16A/datasets/palmer_penguins.csv'\n",
        "penguins = pd.read_csv(url)\n",
        "\n",
        "# Saving simple species names\n",
        "penguins[\"Species\"] = penguins[\"Species\"].str.split().str.get(0)\n",
        "selected_columns = [\"Species\", \"Island\", \"Region\", \"Culmen Length (mm)\", \"Culmen Depth (mm)\", \"Flipper Length (mm)\", \"Body Mass (g)\", \"Sex\", \"Delta 13 C (o/oo)\", \"Delta 15 N (o/oo)\"]\n",
        "penguins = penguins[selected_columns] #saving only relavent columns\n",
        "\n",
        "# Split the data into training and test sets (80/20 split) before cleaning\n",
        "X = penguins.drop(columns='Species').copy()  # All columns except 'Species'\n",
        "y = penguins['Species'].copy()  # Target is 'Species'\n",
        "\n",
        "X_train, X_test, y_train, y_test = train_test_split(X, y, test_size=0.2, random_state=42)\n",
        "\n",
        "# Define the cleaning function\n",
        "def clean_data(X, y=None):\n",
        "    \"\"\"\n",
        "    Cleans the dataset by handling missing values, removing unusual placeholders,\n",
        "    and optionally aligning the target variable if provided.\n",
        "    \"\"\"\n",
        "    # Drop rows with missing values\n",
        "    X_cleaned = X.dropna()\n",
        "\n",
        "    # Remove rows that arent male or female in 'Sex' column\n",
        "    if \"Sex\" in X_cleaned.columns:\n",
        "        X_cleaned = X_cleaned[X_cleaned[\"Sex\"] != \".\"]\n",
        "\n",
        "    # Align target variable if provided\n",
        "    if y is not None:\n",
        "        y = y.loc[X_cleaned.index]\n",
        "\n",
        "    return X_cleaned, y\n",
        "\n",
        "# Clean the training and testing sets\n",
        "X_train_cleaned, y_train_cleaned = clean_data(X_train, y_train)\n",
        "X_test_cleaned, y_test_cleaned = clean_data(X_test, y_test)"
      ]
    }
  ]
}